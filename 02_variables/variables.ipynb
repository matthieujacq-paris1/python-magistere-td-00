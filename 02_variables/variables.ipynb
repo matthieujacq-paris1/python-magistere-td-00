{
 "cells": [
  {
   "cell_type": "markdown",
   "metadata": {},
   "source": [
    "## Les variables\n",
    "\n",
    "Créer une variable en Python est très simple. Il suffit de choisir un nom pour la variable et de lui assigner une valeur. Par exemple, pour créer une variable `x` et lui assigner la valeur `5`, on écrit `x = 5`.\n",
    "\n",
    "Les variables peuvent contenir différents types de données, comme:\n",
    "- des entiers `5`\n",
    "- des flottants `5.0`\n",
    "- des chaînes de caractères: `\"Hello, World!\"`, `'Hello, World!'`\n",
    "- des booléens: `True` ou `False`\n",
    "- des listes: `[1, 2, 3]`\n",
    "- des dictionnaires `{\"key\": \"value\"}`\n",
    "- etc.\n",
    "\n",
    "Les variables peuvent être utilisées pour stocker des valeurs et les réutiliser plus tard dans le code.\n",
    "\n",
    "### Les f-strings\n",
    "\n",
    "Les f-strings sont une fonctionnalité de Python qui permet d'insérer des variables dans une chaîne de caractères. Pour utiliser une f-string, il suffit de mettre un `f` devant la chaîne de caractères, et d'entourer les variables à insérer dans la chaîne de `{}`.\n",
    "\n",
    "### Exemple\n",
    "\n",
    "Dans les deux exemples ci-dessous, déclarez les variables nécessaires au bon fonctionnement du code.\n"
   ]
  },
  {
   "cell_type": "code",
   "execution_count": null,
   "metadata": {},
   "outputs": [],
   "source": [
    "\n",
    "print(f\"Je m'appelle {name}, j'ai {age}. Dans 10 ans, j'aurai {age + 10} ans.\")"
   ]
  },
  {
   "cell_type": "code",
   "execution_count": null,
   "metadata": {},
   "outputs": [
    {
     "name": "stdout",
     "output_type": "stream",
     "text": [
      "Je suis intéressé par l'informatique.\n"
     ]
    }
   ],
   "source": [
    "\n",
    "if interested:\n",
    "    print(\"Je suis intéressé par l'informatique.\")\n",
    "else:\n",
    "    print(\"Je ne suis pas intéressé par l'informatique.\")"
   ]
  },
  {
   "cell_type": "markdown",
   "metadata": {},
   "source": [
    "## Connaître le type d'une variable\n",
    "\n",
    "Pour connaître le type d'une variable en Python, on peut utiliser la fonction `type()`. Par exemple, `type(5)` renverra `<class 'int'>`, qui signifie que `5` est un entier.\n",
    "\n",
    "### Exemples\n",
    "\n",
    "Exécutez les exemples ci-dessous pour voir les types des valeurs données."
   ]
  },
  {
   "cell_type": "code",
   "execution_count": 3,
   "metadata": {},
   "outputs": [
    {
     "name": "stdout",
     "output_type": "stream",
     "text": [
      "<class 'int'>\n",
      "<class 'float'>\n",
      "<class 'str'>\n",
      "<class 'str'>\n"
     ]
    }
   ],
   "source": [
    "print(type(42))\n",
    "print(type(42.0))\n",
    "print(type(\"42\"))\n",
    "print(type('42'))"
   ]
  },
  {
   "cell_type": "code",
   "execution_count": 5,
   "metadata": {},
   "outputs": [
    {
     "name": "stdout",
     "output_type": "stream",
     "text": [
      "<class 'bool'>\n",
      "<class 'list'>\n",
      "<class 'tuple'>\n",
      "<class 'set'>\n",
      "<class 'dict'>\n"
     ]
    }
   ],
   "source": [
    "print(type(True))\n",
    "print(type([1, 2, 3]))\n",
    "print(type((1, 2, 3)))\n",
    "print(type({1, 2, 3}))\n",
    "print(type({\"a\": 1, \"b\": 2, \"c\": 3}))"
   ]
  }
 ],
 "metadata": {
  "kernelspec": {
   "display_name": "Python 3",
   "language": "python",
   "name": "python3"
  },
  "language_info": {
   "codemirror_mode": {
    "name": "ipython",
    "version": 3
   },
   "file_extension": ".py",
   "mimetype": "text/x-python",
   "name": "python",
   "nbconvert_exporter": "python",
   "pygments_lexer": "ipython3",
   "version": "3.11.5"
  }
 },
 "nbformat": 4,
 "nbformat_minor": 2
}
