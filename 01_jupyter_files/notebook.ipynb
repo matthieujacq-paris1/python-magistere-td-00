{
 "cells": [
  {
   "cell_type": "markdown",
   "metadata": {},
   "source": [
    "# Comment fonctionne un notebook Jupyter\n",
    "\n",
    "Un notebook Jupyter est un document qui contient du texte et du code. Le texte est écrit en markdown, et le code est écrit dans une cellule de code.\n",
    "\n",
    "Pour exécuter une cellule de code, il suffit de cliquer sur la cellule et d'appuyer sur `Shift + Enter`. Cela exécutera le code et affichera le résultat en dessous de la cellule. Il est également possible d'exécuter une cellule de code en cliquant sur le bouton ▷ à gauche de la cellule."
   ]
  },
  {
   "cell_type": "markdown",
   "metadata": {},
   "source": [
    "## Exemple: Hello, World!\n",
    "\n",
    "Regardons un exemple. La cellule ci-dessous contient un programme Python simple qui affiche \"Hello, World!\".\n",
    "\n",
    "Exécutez-le pour voir le résultat."
   ]
  },
  {
   "cell_type": "code",
   "execution_count": null,
   "metadata": {},
   "outputs": [],
   "source": [
    "print('hello world')"
   ]
  },
  {
   "cell_type": "markdown",
   "metadata": {},
   "source": [
    "## Comment tester le code dans le notebook\n",
    "\n",
    "Nous écrirons généralement le code dans des fonctions, et nous appellerons ces fonctions avec des exemples pour vérifier si le code fonctionne correctement. Par exemple, si nous voulons tester une fonction `add(a, b)` qui renvoie la somme de `a` et `b`, nous appellerons la fonction avec différents exemples pour vérifier si elle renvoie les résultats attendus.\n",
    "\n",
    "Vous n'avez pas besoin de savoir écrire les tests, ils seront déjà écrits pour vous. Vous n'avez qu'à exécuter le code et vérifier si les tests passent.\n",
    "\n",
    "Il y a ci-dessous 3 blocs de code:\n",
    "- Le premier bloc de code ...\n",
    "- Le deuxième bloc de code ...\n",
    "- Le troisième bloc de code ...\n",
    "\n",
    "Après avoir exécuté les tests et vu que la fonction `add` ne renvoyait pas les résultats attendus, vous devrez modifier le code de la fonction `add` pour qu'elle renvoie les résultats attendus.\n"
   ]
  },
  {
   "cell_type": "code",
   "execution_count": 1,
   "metadata": {},
   "outputs": [],
   "source": [
    "def add(a, b):\n",
    "    return a - b # deliberately wrong"
   ]
  },
  {
   "cell_type": "code",
   "execution_count": 2,
   "metadata": {},
   "outputs": [],
   "source": [
    "# ⚠️ Ne pas modifier le code ci-dessous\n",
    "import ipytest\n",
    "ipytest.autoconfig()"
   ]
  },
  {
   "cell_type": "code",
   "execution_count": null,
   "metadata": {},
   "outputs": [],
   "source": [
    "# ⚠️ Ne pas modifier le code ci-dessous\n",
    "ipytest.clean()\n",
    "def test_add():\n",
    "    assert add(1, 2) == 3\n",
    "    assert add(-1, 1) == 0\n",
    "    assert add(0, 0) == 0\n",
    "    assert add(100, 200) == 300\n",
    "ipytest.run()"
   ]
  }
 ],
 "metadata": {
  "kernelspec": {
   "display_name": "Python 3",
   "language": "python",
   "name": "python3"
  },
  "language_info": {
   "codemirror_mode": {
    "name": "ipython",
    "version": 3
   },
   "file_extension": ".py",
   "mimetype": "text/x-python",
   "name": "python",
   "nbconvert_exporter": "python",
   "pygments_lexer": "ipython3",
   "version": "3.11.5"
  }
 },
 "nbformat": 4,
 "nbformat_minor": 2
}
